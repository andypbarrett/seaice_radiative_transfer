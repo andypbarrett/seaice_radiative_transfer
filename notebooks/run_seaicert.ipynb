{
 "cells": [
  {
   "cell_type": "markdown",
   "id": "49df6c7c-3736-4e12-9e08-d1be1916cf79",
   "metadata": {},
   "source": [
    "# Running the 1D Delta-Eddington Sea Ice Radiative Transfer Model: SeaIceRT\n",
    "\n",
    "SeaIceRT is a python interface for CESM3 Delta Eddington radiative transfer for sea ice. The radiative transfer code is written in Fortran 77. The python wrapper allows the sea ice parameters to be set, the code run and output returned.\n",
    "\n",
    "A full description of the code can be found in \n",
    "\n",
    "Briegleb, B. P., & Light, B. (2007). A Delta-Eddington Mutiple Scattering Parameterization for Solar Radiation in the Sea Ice Component of the Community Climate System Model (No. NCAR/TN-472+STR). University Corporation for Atmospheric Research. doi:10.5065/D6B27S71\n",
    "\n",
    "The following notebook describes how to run the model, change parameter values, retrieve results and also how to run for multiple points."
   ]
  },
  {
   "cell_type": "code",
   "execution_count": 1,
   "id": "a02fcc0f-8ba0-4226-8f3c-0a824a33d31c",
   "metadata": {},
   "outputs": [],
   "source": [
    "# Append path for package\n",
    "import sys\n",
    "sys.path.append(\"../seaicert/\")"
   ]
  },
  {
   "cell_type": "markdown",
   "id": "72b6d867-7bca-4e25-9eb2-0189c47a3968",
   "metadata": {},
   "source": [
    "## Running the model\n",
    "The model is run using the `SeaIceRT` class, which contained in the `ccsm_sir_de` package."
   ]
  },
  {
   "cell_type": "code",
   "execution_count": 2,
   "id": "29ec5a91-a515-42c1-977c-300d1ff58ce8",
   "metadata": {},
   "outputs": [],
   "source": [
    "import numpy as np\n",
    "\n",
    "from ccsm3_sir_de import SeaIceRT"
   ]
  },
  {
   "cell_type": "markdown",
   "id": "69dfd2bb-46e7-45d9-8f34-fecf2a2970d4",
   "metadata": {},
   "source": [
    "A model instance is created"
   ]
  },
  {
   "cell_type": "code",
   "execution_count": 3,
   "id": "d7927ebc-0405-4f6c-b4cd-f54616eb3442",
   "metadata": {},
   "outputs": [],
   "source": [
    "model = SeaIceRT()"
   ]
  },
  {
   "cell_type": "markdown",
   "id": "c1ab0198-f0ec-4dad-a849-4eb312443495",
   "metadata": {},
   "source": [
    "The initial model instance has a default parameterisation.  Model parameters are accessed with the `get_parameters` method.\n",
    "\n",
    "__This should probably be changed to `print_parameters`__"
   ]
  },
  {
   "cell_type": "code",
   "execution_count": 4,
   "id": "d5ad0afd-09c3-4983-95f3-bda243a7899a",
   "metadata": {},
   "outputs": [
    {
     "name": "stdout",
     "output_type": "stream",
     "text": [
      "day_of_year = 140.477\n",
      "latitude = 80.0\n",
      "level = [18.0, 17.0, 16.0, 15.0, 14.0, 13.0, 12.0, 11.0, 10.0, 9.0, 8.0, 7.0, 6.0, 5.0, 4.0, 3.0, 2.0, 1.0]\n",
      "pressure = [2.0, 5.0, 15.0, 35.0, 60.0, 105.0, 160.0, 235.0, 320.0, 420.0, 520.0, 610.0, 710.0, 800.0, 870.0, 930.0, 970.0, 1000.0]\n",
      "air_temperature = [273.0, 251.0, 234.0, 226.0, 225.0, 225.0, 225.0, 225.0, 234.0, 247.0, 257.0, 265.0, 272.0, 277.0, 280.0, 281.0, 278.0, 276.0]\n",
      "water_vapor_mixing_ratio = [4e-06, 4e-06, 4e-06, 4e-06, 4e-06, 4e-06, 6.4e-06, 2.6e-05, 0.00012, 0.00052, 0.0011, 0.002, 0.0031, 0.0042, 0.0051, 0.0059, 0.004, 0.003]\n",
      "ozone_mixing_ratio = [7e-06, 1.3e-05, 1e-05, 5.5e-06, 4.2e-06, 2.2e-06, 1e-06, 5e-07, 2e-07, 1.4e-07, 1e-07, 8e-08, 7e-08, 6e-08, 5.5e-08, 5e-08, 4.5e-08, 4e-08]\n",
      "cloud_cover = [0.0, 0.0, 0.0, 0.0, 0.0, 0.0, 0.0, 0.0, 0.0, 0.0, 0.0, 0.0, 0.0, 0.0, 0.0, 1.0, 0.0, 0.0]\n",
      "cloud_liquid_water_path = [0.0, 0.0, 0.0, 0.0, 0.0, 0.0, 0.0, 0.0, 0.0, 0.0, 0.0, 0.0, 0.0, 0.0, 0.0, 60.0, 0.0, 0.0]\n",
      "surface_pressure = 1008.0\n",
      "co2_volume_mixing_ratio = 0.00037\n",
      "surface_air_temperature = 273.16\n",
      "ground_temperature = 273.16\n",
      "snow_depth = 0.0\n",
      "snow_density = 330.0\n",
      "snow_grain_radius = 50.0\n",
      "pond_depth = 0.5\n",
      "pond_tuning_parameter = -1.0\n",
      "sea_ice_thickness = 1.5\n",
      "sea_ice_tuning_parameter = 0.0\n"
     ]
    }
   ],
   "source": [
    "model.get_parameters()"
   ]
  },
  {
   "cell_type": "markdown",
   "id": "da299235-bbc9-488b-af96-b53ec0e79e7c",
   "metadata": {},
   "source": [
    "Parameter descriptions are in the model docstring"
   ]
  },
  {
   "cell_type": "code",
   "execution_count": 5,
   "id": "2d91d4a1-c417-4bfb-9e3b-cf60d4616e26",
   "metadata": {},
   "outputs": [
    {
     "name": "stdout",
     "output_type": "stream",
     "text": [
      "Help on SeaIceRT in module ccsm3_sir_de object:\n",
      "\n",
      "class SeaIceRT(builtins.object)\n",
      " |  Main class for running CCSM3_SIR_DE\n",
      " |  \n",
      " |  Model Parameters\n",
      " |  ----------------\n",
      " |  \n",
      " |  Spatio-temporal parameters:\n",
      " |  \n",
      " |  :day_of_year: day of year, 1..365, where day 1 = January 1\n",
      " |  :latitude: latitude (-90 to 90)  (test=80.)\n",
      " |  \n",
      " |  Surface characteristics:\n",
      " |  :surface_pressure:  Surface pressure in mb (test=1008 mb)\n",
      " |  :co2_volume_mixing_ratio:  CO2 volume mixing ratio (test 3.7e-04)\n",
      " |  :surface_air_temperature:  Surface air temperature (K) (test=273.16 K)\n",
      " |  :ground_temperature:  Surface skin temperature (K) (test=273.17 K)\n",
      " |  :snow_depth:  Physical snow depth in meters (test=0 m)\n",
      " |  :snow_density:  Snow density (kg/m3) (test=330 kg/m3)\n",
      " |  :snow_grain_radius:  Snow grain radius in microns (um) (test=50. um)\n",
      " |  :pond_depth:  Physical pond depth in meters (test=0.5 m)\n",
      " |  :pond_tuning_parameter:  Pond tuning parameter in standard deviations (test=-1.)\n",
      " |  :sea_ice_thickness:  Physical ice thickness in meters (test=1.5 m)\n",
      " |  :sea_ice_tuning_parameter:  Sea ice tuning parameter in standard deviations (test=0.)\n",
      " |  \n",
      " |  Atmospheric Profile - 18 element array-like objects\n",
      " |  :level: number id of level 1..18\n",
      " |  :pressure: Pressure in mb\n",
      " |  :air_temperature: air temperature in Kelvin\n",
      " |  :water_vapor_mixing_ratio:  Water vapour mixing ration (g/g)\n",
      " |  :ozone_mixing_ratio:  Ozone mixing ration (g/g)\n",
      " |  :cloud_cover:  Cloud cover - non-dimension 0.-1.\n",
      " |  :cloud_liquid_water_path: Cloud liquid water path (g/m2)\n",
      " |  \n",
      " |  \n",
      " |  Running the model\n",
      " |  In [1]: from ccsm3_sir_de import SeaIceRT\n",
      " |  \n",
      " |  In [2]: model = SeaIceRT()\n",
      " |  \n",
      " |  In [3]: model.run()\n",
      " |  \n",
      " |  # For a single column run, results can be printed to standard out\n",
      " |  In [17]: model.print_results()\n",
      " |  ----------------------------------------------------------------------\n",
      " |  CCSM3 Sea Ice Delta Eddington calculation\n",
      " |  ----------------------------------------------------------------------\n",
      " |  ----------------------------------------------------------------------\n",
      " |  Visible and near-ir direct and diffuse albedos\n",
      " |  Visible: 0.2 to 0.7 micrometers\n",
      " |  Near-IR: 0.7 to 5.0 micrometers\n",
      " |  ----------------------------------------------------------------------\n",
      " |  Albedo shortwave direct: 0.16\n",
      " |  Albedo shortwave diffuse: 0.19\n",
      " |  Albedo longwave direct: 0.04\n",
      " |  Albedo longwave diffuse: 0.06\n",
      " |  \n",
      " |  ...\n",
      " |  snip\n",
      " |  ...\n",
      " |  \n",
      " |  ----------------------------------------------------------------------\n",
      " |  Snow/Sea ice transmitted flux (Tr fraction) and absorption (Q Wm-2)\n",
      " |  ----------------------------------------------------------------------\n",
      " |  Level      depth Tr_vs  Q_vs   Tr_ni  Q_ni   Q_total\n",
      " |  ----------------------------------------------------------------------\n",
      " |  0 surface                  30.67         77.73 108.40\n",
      " |            0.000 1.0000        1.0000\n",
      " |  1 pond                     14.55         76.65  91.20\n",
      " |            0.250 0.9494        0.0130\n",
      " |  2 pond                     13.78          1.06  14.84\n",
      " |            0.500 0.8625        0.0002\n",
      " |  3 ice                       2.34          0.02   2.36\n",
      " |            0.050 0.7889        0.0000\n",
      " |  4 ice                      12.37          0.00  12.37\n",
      " |            0.375 0.6230        0.0000\n",
      " |  5 ice                      10.74          0.00  10.74\n",
      " |            0.750 0.4731        0.0000\n",
      " |  6 ice                       7.74          0.00   7.74\n",
      " |            1.125 0.3552        0.0000\n",
      " |  7 ice                       5.26          0.00   5.26\n",
      " |            1.500 0.2613        0.0000\n",
      " |  8 ocean                    31.46          0.00  31.46\n",
      " |  \n",
      " |  # Results can be returned as a dictionary\n",
      " |  results = model.get_results()\n",
      " |  \n",
      " |  # Individual fields can be accessed using normal dictionary access methods\n",
      " |  In [19]: results[\"downwelling_shortwave_flux_absorbed_by_ocean\"]\n",
      " |  Out[19]: 31.46452522277832\n",
      " |  \n",
      " |  TBD: add example for initialization and running\n",
      " |  \n",
      " |  Need methods to \n",
      " |     - repr input parameters\n",
      " |     - get inputs from file/ERA5 or some other reanalysis\n",
      " |  \n",
      " |  Methods defined here:\n",
      " |  \n",
      " |  __init__(self)\n",
      " |      Initialize self.  See help(type(self)) for accurate signature.\n",
      " |  \n",
      " |  __repr__(self)\n",
      " |      Return repr(self).\n",
      " |  \n",
      " |  get_parameters(self)\n",
      " |  \n",
      " |  get_results(self)\n",
      " |      Returns a dictionary of model results\n",
      " |  \n",
      " |  print_results(self)\n",
      " |  \n",
      " |  run(self)\n",
      " |      Run sea ice radiative transfer model\n",
      " |  \n",
      " |  set_default_parameters(self)\n",
      " |      Sets model parameters to default\n",
      " |  \n",
      " |  ----------------------------------------------------------------------\n",
      " |  Data descriptors defined here:\n",
      " |  \n",
      " |  __dict__\n",
      " |      dictionary for instance variables (if defined)\n",
      " |  \n",
      " |  __weakref__\n",
      " |      list of weak references to the object (if defined)\n",
      "\n"
     ]
    }
   ],
   "source": [
    "help(model)"
   ]
  },
  {
   "cell_type": "markdown",
   "id": "a0973d30-ed1d-4eb9-b046-fc762ca34631",
   "metadata": {},
   "source": [
    "The model is run by invoking the `run` method"
   ]
  },
  {
   "cell_type": "code",
   "execution_count": 6,
   "id": "28a1720b-296c-416b-99e0-abcad8b89a59",
   "metadata": {},
   "outputs": [],
   "source": [
    "model.run()"
   ]
  },
  {
   "cell_type": "markdown",
   "id": "cb664fb5-e3e8-4bd2-90eb-0dc10be1f8b6",
   "metadata": {},
   "source": [
    "Results are printed using `print_results`"
   ]
  },
  {
   "cell_type": "code",
   "execution_count": 7,
   "id": "1ff61729-94b3-4035-b843-946f1a725dcb",
   "metadata": {},
   "outputs": [
    {
     "name": "stdout",
     "output_type": "stream",
     "text": [
      "day_of_year = 140.477\n",
      "latitude = 80.0\n",
      "level = [18.0, 17.0, 16.0, 15.0, 14.0, 13.0, 12.0, 11.0, 10.0, 9.0, 8.0, 7.0, 6.0, 5.0, 4.0, 3.0, 2.0, 1.0]\n",
      "pressure = [2.0, 5.0, 15.0, 35.0, 60.0, 105.0, 160.0, 235.0, 320.0, 420.0, 520.0, 610.0, 710.0, 800.0, 870.0, 930.0, 970.0, 1000.0]\n",
      "air_temperature = [273.0, 251.0, 234.0, 226.0, 225.0, 225.0, 225.0, 225.0, 234.0, 247.0, 257.0, 265.0, 272.0, 277.0, 280.0, 281.0, 278.0, 276.0]\n",
      "water_vapor_mixing_ratio = [4e-06, 4e-06, 4e-06, 4e-06, 4e-06, 4e-06, 6.4e-06, 2.6e-05, 0.00012, 0.00052, 0.0011, 0.002, 0.0031, 0.0042, 0.0051, 0.0059, 0.004, 0.003]\n",
      "ozone_mixing_ratio = [7e-06, 1.3e-05, 1e-05, 5.5e-06, 4.2e-06, 2.2e-06, 1e-06, 5e-07, 2e-07, 1.4e-07, 1e-07, 8e-08, 7e-08, 6e-08, 5.5e-08, 5e-08, 4.5e-08, 4e-08]\n",
      "cloud_cover = [0.0, 0.0, 0.0, 0.0, 0.0, 0.0, 0.0, 0.0, 0.0, 0.0, 0.0, 0.0, 0.0, 0.0, 0.0, 1.0, 0.0, 0.0]\n",
      "cloud_liquid_water_path = [0.0, 0.0, 0.0, 0.0, 0.0, 0.0, 0.0, 0.0, 0.0, 0.0, 0.0, 0.0, 0.0, 0.0, 0.0, 60.0, 0.0, 0.0]\n",
      "surface_pressure = 1008.0\n",
      "co2_volume_mixing_ratio = 0.00037\n",
      "surface_air_temperature = 273.16\n",
      "ground_temperature = 273.16\n",
      "snow_depth = 0.0\n",
      "snow_density = 330.0\n",
      "snow_grain_radius = 50.0\n",
      "pond_depth = 0.5\n",
      "pond_tuning_parameter = -1.0\n",
      "sea_ice_thickness = 0.5\n",
      "sea_ice_tuning_parameter = 0.0\n"
     ]
    }
   ],
   "source": [
    "model.sea_ice_thickness = 0.5\n",
    "model.get_parameters()\n",
    "model.run()"
   ]
  },
  {
   "cell_type": "code",
   "execution_count": 8,
   "id": "b549cdea-cac2-46a5-9f5b-7bca77c052fd",
   "metadata": {},
   "outputs": [],
   "source": [
    "model.day_of_year = 243.\n",
    "model.run()"
   ]
  },
  {
   "cell_type": "code",
   "execution_count": 9,
   "id": "107f33a3-85fe-43ec-9437-7dceb23d92f0",
   "metadata": {},
   "outputs": [
    {
     "name": "stdout",
     "output_type": "stream",
     "text": [
      "----------------------------------------------------------------------\n",
      "CCSM3 Sea Ice Delta Eddington calculation\n",
      "----------------------------------------------------------------------\n",
      "----------------------------------------------------------------------\n",
      "Visible and near-ir direct and diffuse albedos\n",
      "   Visible: 0.2 to 0.7 micrometers\n",
      "   Near-IR: 0.7 to 5.0 micrometers\n",
      "----------------------------------------------------------------------\n",
      "Albedo shortwave direct: 0.00\n",
      "Albedo shortwave diffuse: 0.00\n",
      "Albedo longwave direct: 0.00\n",
      "Albedo longwave diffuse: 0.00\n",
      " \n",
      "----------------------------------------------------------------------\n",
      "Surface ansorption and Albedos\n",
      "----------------------------------------------------------------------\n",
      "Visible solar absorbed by ocean: 0.0\n",
      "Near-IR absorbed by ocean: 0.0\n",
      "----------------------------------------------------------------------\n",
      "Surface absorption ad albedos\n",
      "----------------------------------------------------------------------\n",
      "Solar vs direct surface irradiance:   0.00 Wm-2\n",
      " \n",
      "----------------------------------------------------------------------\n",
      "Snow/Sea ice transmitted flux (Tr fraction) and absorption (Q Wm-2)\n",
      "----------------------------------------------------------------------\n",
      "   Level      depth Tr_vs  Q_vs   Tr_ni  Q_ni   Q_total\n",
      "----------------------------------------------------------------------\n",
      " 0 surface                    nan           nan    nan\n",
      "              0.000    nan           nan\n",
      " 1 pond                      0.00          0.00   0.00\n",
      "              0.250    nan           nan\n",
      " 2 pond                      0.00          0.00   0.00\n",
      "              0.500    nan           nan\n",
      " 3 ice                       0.00          0.00   0.00\n",
      "              0.017    nan           nan\n",
      " 4 ice                       0.00          0.00   0.00\n",
      "              0.125    nan           nan\n",
      " 5 ice                       0.00          0.00   0.00\n",
      "              0.250    nan           nan\n",
      " 6 ice                       0.00          0.00   0.00\n",
      "              0.375    nan           nan\n",
      " 7 ice                       0.00          0.00   0.00\n",
      "              0.500    nan           nan\n",
      " 8 ocean                     0.00          0.00   0.00\n"
     ]
    }
   ],
   "source": [
    "model.print_results()"
   ]
  },
  {
   "cell_type": "markdown",
   "id": "30b47e9e-7866-4575-87d2-9074d232ee15",
   "metadata": {},
   "source": [
    "The `get_results` method returns a dictionary of output parameters that can be accessed using normal python dictionary methods.    "
   ]
  },
  {
   "cell_type": "code",
   "execution_count": 10,
   "id": "105e4b1b-e860-4fd8-8d93-3dbc845622b0",
   "metadata": {},
   "outputs": [
    {
     "data": {
      "text/plain": [
       "['surface_direct_shortwave_reflectance',\n",
       " 'surface_diffuse_shortwave_reflectance',\n",
       " 'surface_direct_longwave_reflectance',\n",
       " 'surface_diffuse_longwave_reflectance',\n",
       " 'downwelling_shortwave_flux_absorbed_by_ocean',\n",
       " 'downwelling_longwave_flux_absorbed_by_ocean',\n",
       " 'downwelling_shortwave_flux_absorbed_by_seaice_layer',\n",
       " 'downwelling_longwave_flux_absorbed_by_seaice_layer',\n",
       " 'downwelling_radiative_flux_absorbed_by_seaice_layer',\n",
       " 'surface_downwelling_direct_shortwave_flux',\n",
       " 'surface_downwelling_diffuse_shortwave_flux',\n",
       " 'fraction_of_direct_shortwave_at_surface',\n",
       " 'surface_downwelling_direct_longwave_flux',\n",
       " 'surface_downwelling_diffuse_longwave_flux',\n",
       " 'fraction_of_direct_longwave_at_surface',\n",
       " 'surface_downwelling_radiative_flux',\n",
       " 'fraction_of_downwelling_radiative_flux_as_shortwave',\n",
       " 'surface_albedo',\n",
       " 'downwelling_shortwave_absorbed_by_seaice',\n",
       " 'downwelling_longwave_absorbed_seaice',\n",
       " 'downwelling_radiative_flux_absorbed_by_seaice_surface_layer',\n",
       " 'seaice_layer_type',\n",
       " 'fraction_of_shortwave_flux_transmitted_through_seaice_surface',\n",
       " 'fraction_of_longwave_flux_transmitted_through_seaice_surface',\n",
       " 'depth_of_seaice_layer_interface',\n",
       " 'fraction_of_surface_shortwave_flux_transmitted_to_layer',\n",
       " 'fraction_of_surface_longwave_flux_transmitted_to_layer',\n",
       " 'fraction_of_surface_shortwave_flux_transmitted_to_ocean',\n",
       " 'fraction_of_surface_longwave_flux_transmitted_to_ocean']"
      ]
     },
     "execution_count": 10,
     "metadata": {},
     "output_type": "execute_result"
    }
   ],
   "source": [
    "output = model.get_results()\n",
    "[out_param for out_param in output.keys()]"
   ]
  },
  {
   "cell_type": "code",
   "execution_count": 11,
   "id": "16433d2f-9d88-44f5-99f1-7475806006d0",
   "metadata": {},
   "outputs": [
    {
     "data": {
      "text/plain": [
       "[nan, nan, nan, nan, nan, nan, nan, nan]"
      ]
     },
     "execution_count": 11,
     "metadata": {},
     "output_type": "execute_result"
    }
   ],
   "source": [
    "output[\"fraction_of_surface_shortwave_flux_transmitted_to_layer\"]"
   ]
  },
  {
   "cell_type": "code",
   "execution_count": 12,
   "id": "2d48e8c4-bc76-48c5-ac86-f0eb98096e3a",
   "metadata": {},
   "outputs": [
    {
     "data": {
      "text/plain": [
       "nan"
      ]
     },
     "execution_count": 12,
     "metadata": {},
     "output_type": "execute_result"
    }
   ],
   "source": [
    "output[\"fraction_of_surface_shortwave_flux_transmitted_to_ocean\"]"
   ]
  },
  {
   "cell_type": "markdown",
   "id": "4348cbda-4620-4f30-ad64-4b3aff4d76c2",
   "metadata": {
    "tags": []
   },
   "source": [
    "## Modifying input parameters\n",
    "\n",
    "Input parameters are modified by changing model attributes.  In this case we can change pond depth to 0 m."
   ]
  },
  {
   "cell_type": "code",
   "execution_count": 13,
   "id": "14faa01d-37b0-41e7-a5d0-55629363e26b",
   "metadata": {},
   "outputs": [
    {
     "name": "stdout",
     "output_type": "stream",
     "text": [
      "----------------------------------------------------------------------\n",
      "CCSM3 Sea Ice Delta Eddington calculation\n",
      "----------------------------------------------------------------------\n",
      "----------------------------------------------------------------------\n",
      "Visible and near-ir direct and diffuse albedos\n",
      "   Visible: 0.2 to 0.7 micrometers\n",
      "   Near-IR: 0.7 to 5.0 micrometers\n",
      "----------------------------------------------------------------------\n",
      "Albedo shortwave direct: 0.00\n",
      "Albedo shortwave diffuse: 0.00\n",
      "Albedo longwave direct: 0.00\n",
      "Albedo longwave diffuse: 0.00\n",
      " \n",
      "----------------------------------------------------------------------\n",
      "Surface ansorption and Albedos\n",
      "----------------------------------------------------------------------\n",
      "Visible solar absorbed by ocean: 0.0\n",
      "Near-IR absorbed by ocean: 0.0\n",
      "----------------------------------------------------------------------\n",
      "Surface absorption ad albedos\n",
      "----------------------------------------------------------------------\n",
      "Solar vs direct surface irradiance:   0.00 Wm-2\n",
      " \n",
      "----------------------------------------------------------------------\n",
      "Snow/Sea ice transmitted flux (Tr fraction) and absorption (Q Wm-2)\n",
      "----------------------------------------------------------------------\n",
      "   Level      depth Tr_vs  Q_vs   Tr_ni  Q_ni   Q_total\n",
      "----------------------------------------------------------------------\n",
      " 0 surface                    nan           nan    nan\n",
      "              0.000    nan           nan\n",
      " 1 air                       0.00          0.00   0.00\n",
      "              0.250    nan           nan\n",
      " 2 air                       0.00          0.00   0.00\n",
      "              0.500    nan           nan\n",
      " 3 ice                       0.00          0.00   0.00\n",
      "              0.017    nan           nan\n",
      " 4 ice                       0.00          0.00   0.00\n",
      "              0.125    nan           nan\n",
      " 5 ice                       0.00          0.00   0.00\n",
      "              0.250    nan           nan\n",
      " 6 ice                       0.00          0.00   0.00\n",
      "              0.375    nan           nan\n",
      " 7 ice                       0.00          0.00   0.00\n",
      "              0.500    nan           nan\n",
      " 8 ocean                     0.00          0.00   0.00\n"
     ]
    }
   ],
   "source": [
    "model.pond_depth = 0.\n",
    "model.run()\n",
    "model.print_results()"
   ]
  },
  {
   "cell_type": "markdown",
   "id": "807c2c39-1bc7-4d87-8a36-764191e833ab",
   "metadata": {},
   "source": [
    "Likewise, change snow depth."
   ]
  },
  {
   "cell_type": "code",
   "execution_count": 14,
   "id": "fbb52639-c1cc-42e9-bd86-5b291c30878d",
   "metadata": {},
   "outputs": [
    {
     "name": "stdout",
     "output_type": "stream",
     "text": [
      "----------------------------------------------------------------------\n",
      "CCSM3 Sea Ice Delta Eddington calculation\n",
      "----------------------------------------------------------------------\n",
      "----------------------------------------------------------------------\n",
      "Visible and near-ir direct and diffuse albedos\n",
      "   Visible: 0.2 to 0.7 micrometers\n",
      "   Near-IR: 0.7 to 5.0 micrometers\n",
      "----------------------------------------------------------------------\n",
      "Albedo shortwave direct: 0.00\n",
      "Albedo shortwave diffuse: 0.00\n",
      "Albedo longwave direct: 0.00\n",
      "Albedo longwave diffuse: 0.00\n",
      " \n",
      "----------------------------------------------------------------------\n",
      "Surface ansorption and Albedos\n",
      "----------------------------------------------------------------------\n",
      "Visible solar absorbed by ocean: 0.0\n",
      "Near-IR absorbed by ocean: 0.0\n",
      "----------------------------------------------------------------------\n",
      "Surface absorption ad albedos\n",
      "----------------------------------------------------------------------\n",
      "Solar vs direct surface irradiance:   0.00 Wm-2\n",
      " \n",
      "----------------------------------------------------------------------\n",
      "Snow/Sea ice transmitted flux (Tr fraction) and absorption (Q Wm-2)\n",
      "----------------------------------------------------------------------\n",
      "   Level      depth Tr_vs  Q_vs   Tr_ni  Q_ni   Q_total\n",
      "----------------------------------------------------------------------\n",
      " 0 surface                    nan           nan    nan\n",
      "              0.000    nan           nan\n",
      " 1 snow                      0.00          0.00   0.00\n",
      "              0.250    nan           nan\n",
      " 2 snow                      0.00          0.00   0.00\n",
      "              0.500    nan           nan\n",
      " 3 ice                       0.00          0.00   0.00\n",
      "              0.017    nan           nan\n",
      " 4 ice                       0.00          0.00   0.00\n",
      "              0.125    nan           nan\n",
      " 5 ice                       0.00          0.00   0.00\n",
      "              0.250    nan           nan\n",
      " 6 ice                       0.00          0.00   0.00\n",
      "              0.375    nan           nan\n",
      " 7 ice                       0.00          0.00   0.00\n",
      "              0.500    nan           nan\n",
      " 8 ocean                     0.00          0.00   0.00\n"
     ]
    }
   ],
   "source": [
    "model.snow_depth = 0.3\n",
    "model.run()\n",
    "model.print_results()"
   ]
  },
  {
   "cell_type": "markdown",
   "id": "2a1f161c-42cb-4c65-957c-53a334922b41",
   "metadata": {},
   "source": [
    "## Running for Polarstern MOSAiC drift\n",
    "\n"
   ]
  },
  {
   "cell_type": "code",
   "execution_count": 15,
   "id": "fd42dd3b-44e1-4022-a05c-b07993058604",
   "metadata": {},
   "outputs": [],
   "source": [
    "import pandas as pd"
   ]
  },
  {
   "cell_type": "code",
   "execution_count": 16,
   "id": "9bb372aa-07d3-4113-83d8-0a779c256a69",
   "metadata": {},
   "outputs": [
    {
     "data": {
      "text/html": [
       "<div>\n",
       "<style scoped>\n",
       "    .dataframe tbody tr th:only-of-type {\n",
       "        vertical-align: middle;\n",
       "    }\n",
       "\n",
       "    .dataframe tbody tr th {\n",
       "        vertical-align: top;\n",
       "    }\n",
       "\n",
       "    .dataframe thead th {\n",
       "        text-align: right;\n",
       "    }\n",
       "</style>\n",
       "<table border=\"1\" class=\"dataframe\">\n",
       "  <thead>\n",
       "    <tr style=\"text-align: right;\">\n",
       "      <th></th>\n",
       "      <th>Depth</th>\n",
       "      <th>Density</th>\n",
       "      <th>Latitude</th>\n",
       "      <th>Longitude</th>\n",
       "    </tr>\n",
       "    <tr>\n",
       "      <th>Date</th>\n",
       "      <th></th>\n",
       "      <th></th>\n",
       "      <th></th>\n",
       "      <th></th>\n",
       "    </tr>\n",
       "  </thead>\n",
       "  <tbody>\n",
       "    <tr>\n",
       "      <th>2019-10-05 12:00:00</th>\n",
       "      <td>0.163416</td>\n",
       "      <td>301.51227</td>\n",
       "      <td>85.100302</td>\n",
       "      <td>133.732597</td>\n",
       "    </tr>\n",
       "    <tr>\n",
       "      <th>2019-10-06 12:00:00</th>\n",
       "      <td>0.162295</td>\n",
       "      <td>303.89825</td>\n",
       "      <td>85.102400</td>\n",
       "      <td>133.862478</td>\n",
       "    </tr>\n",
       "    <tr>\n",
       "      <th>2019-10-07 12:00:00</th>\n",
       "      <td>0.152856</td>\n",
       "      <td>322.05740</td>\n",
       "      <td>85.067720</td>\n",
       "      <td>134.627573</td>\n",
       "    </tr>\n",
       "    <tr>\n",
       "      <th>2019-10-08 12:00:00</th>\n",
       "      <td>0.151041</td>\n",
       "      <td>335.22607</td>\n",
       "      <td>84.956227</td>\n",
       "      <td>136.223353</td>\n",
       "    </tr>\n",
       "    <tr>\n",
       "      <th>2019-10-09 12:00:00</th>\n",
       "      <td>0.156001</td>\n",
       "      <td>326.82974</td>\n",
       "      <td>84.902838</td>\n",
       "      <td>135.902912</td>\n",
       "    </tr>\n",
       "    <tr>\n",
       "      <th>...</th>\n",
       "      <td>...</td>\n",
       "      <td>...</td>\n",
       "      <td>...</td>\n",
       "      <td>...</td>\n",
       "    </tr>\n",
       "    <tr>\n",
       "      <th>2020-07-27 12:00:00</th>\n",
       "      <td>0.000000</td>\n",
       "      <td>0.00000</td>\n",
       "      <td>79.582463</td>\n",
       "      <td>-2.310762</td>\n",
       "    </tr>\n",
       "    <tr>\n",
       "      <th>2020-07-28 12:00:00</th>\n",
       "      <td>0.000000</td>\n",
       "      <td>0.00000</td>\n",
       "      <td>79.353650</td>\n",
       "      <td>-2.687590</td>\n",
       "    </tr>\n",
       "    <tr>\n",
       "      <th>2020-07-29 12:00:00</th>\n",
       "      <td>0.000000</td>\n",
       "      <td>0.00000</td>\n",
       "      <td>79.184568</td>\n",
       "      <td>-2.593293</td>\n",
       "    </tr>\n",
       "    <tr>\n",
       "      <th>2020-07-30 12:00:00</th>\n",
       "      <td>0.000000</td>\n",
       "      <td>0.00000</td>\n",
       "      <td>79.095065</td>\n",
       "      <td>-2.435108</td>\n",
       "    </tr>\n",
       "    <tr>\n",
       "      <th>2020-07-31 12:00:00</th>\n",
       "      <td>0.000000</td>\n",
       "      <td>0.00000</td>\n",
       "      <td>79.002760</td>\n",
       "      <td>-2.922762</td>\n",
       "    </tr>\n",
       "  </tbody>\n",
       "</table>\n",
       "<p>300 rows × 4 columns</p>\n",
       "</div>"
      ],
      "text/plain": [
       "                        Depth    Density   Latitude   Longitude\n",
       "Date                                                           \n",
       "2019-10-05 12:00:00  0.163416  301.51227  85.100302  133.732597\n",
       "2019-10-06 12:00:00  0.162295  303.89825  85.102400  133.862478\n",
       "2019-10-07 12:00:00  0.152856  322.05740  85.067720  134.627573\n",
       "2019-10-08 12:00:00  0.151041  335.22607  84.956227  136.223353\n",
       "2019-10-09 12:00:00  0.156001  326.82974  84.902838  135.902912\n",
       "...                       ...        ...        ...         ...\n",
       "2020-07-27 12:00:00  0.000000    0.00000  79.582463   -2.310762\n",
       "2020-07-28 12:00:00  0.000000    0.00000  79.353650   -2.687590\n",
       "2020-07-29 12:00:00  0.000000    0.00000  79.184568   -2.593293\n",
       "2020-07-30 12:00:00  0.000000    0.00000  79.095065   -2.435108\n",
       "2020-07-31 12:00:00  0.000000    0.00000  79.002760   -2.922762\n",
       "\n",
       "[300 rows x 4 columns]"
      ]
     },
     "execution_count": 16,
     "metadata": {},
     "output_type": "execute_result"
    }
   ],
   "source": [
    "df = pd.read_csv(\"../data/rt_snow_input.csv\", index_col=0, header=0, parse_dates=True)\n",
    "df"
   ]
  },
  {
   "cell_type": "code",
   "execution_count": 17,
   "id": "38f32110-4f6e-4014-9792-4a9ea7b3f108",
   "metadata": {},
   "outputs": [
    {
     "name": "stdout",
     "output_type": "stream",
     "text": [
      "CPU times: user 298 ms, sys: 13.5 ms, total: 311 ms\n",
      "Wall time: 310 ms\n"
     ]
    }
   ],
   "source": [
    "%%time\n",
    "\n",
    "model.snow_grain_radius = 180.\n",
    "\n",
    "timestamp = []\n",
    "sw_absorbed_by_ocean = []\n",
    "surface_albedo = []\n",
    "surface_downwelling_radiative_flux = []\n",
    "for idx, vals in df.iterrows():\n",
    "    model.day_of_year = idx.day_of_year + 0.5  # adjust for longitude?\n",
    "    model.latitude = vals[\"Latitude\"]\n",
    "    model.snow_depth = vals[\"Depth\"]\n",
    "    model.snow_density = vals[\"Density\"]\n",
    "    model.run()\n",
    "    output = model.get_results()\n",
    "    timestamp.append(idx)\n",
    "    sw_absorbed_by_ocean.append(output[\"downwelling_shortwave_flux_absorbed_by_ocean\"])\n",
    "    surface_albedo.append(output[\"surface_albedo\"])\n",
    "    surface_downwelling_radiative_flux.append(output[\"surface_downwelling_radiative_flux\"])\n",
    "    \n",
    "#df.index.day_of_year[0]"
   ]
  },
  {
   "cell_type": "code",
   "execution_count": 32,
   "id": "16ea64d2-9aab-496f-8bbc-681dd96d5dcd",
   "metadata": {},
   "outputs": [
    {
     "data": {
      "text/plain": [
       "Text(0.01, 0.01, 'Snow Density')"
      ]
     },
     "execution_count": 32,
     "metadata": {},
     "output_type": "execute_result"
    },
    {
     "data": {
      "image/png": "[encoded data removed]",
      "text/plain": [
       "<Figure size 1000x700 with 4 Axes>"
      ]
     },
     "metadata": {},
     "output_type": "display_data"
    }
   ],
   "source": [
    "import matplotlib.pyplot as plt\n",
    "import datetime as dt\n",
    "\n",
    "start_co2 = dt.datetime(2020, 6, 19)\n",
    "start_co3 = dt.datetime(2020, 8, 21)\n",
    "\n",
    "t0 = dt.datetime(2020, 5, 1)\n",
    "t1 = start_co3\n",
    "\n",
    "fig, ax = plt.subplots(4, 1, figsize=(10,7))\n",
    "ax[0].set_xlim(t0, t1)\n",
    "ax[0].plot(timestamp, sw_absorbed_by_ocean)\n",
    "ax[0].axvline(start_co2, color='k')\n",
    "ax[0].axvline(start_co3, color='k')\n",
    "ax[0].set_ylabel(\"$\\mathrm{W\\ m^{-2}}$\")\n",
    "ax[0].text(0.01, 0.89, \"SW absorbed by Ocean\", transform=ax[0].transAxes)\n",
    "\n",
    "ax[1].set_xlim(t0, t1)\n",
    "ax[1].plot(timestamp, surface_downwelling_radiative_flux)\n",
    "ax[1].axvline(start_co2, color='k')\n",
    "ax[1].axvline(start_co3, color='k')\n",
    "ax[1].set_ylabel(\"$\\mathrm{W\\ m^{-2}}$\")\n",
    "ax[1].text(0.01, 0.89, \"Surface downwelling flux\", transform=ax[1].transAxes)\n",
    "\n",
    "ax[2].set_xlim(t0, t1)\n",
    "ax[2].plot(df.index, df.Depth)\n",
    "ax[2].axvline(start_co2, color='k')\n",
    "ax[2].axvline(start_co3, color='k')\n",
    "ax[2].set_ylabel(\"m\")\n",
    "ax[2].text(0.01, 0.01, \"Snow Depth\", transform=ax[2].transAxes)\n",
    "\n",
    "ax[3].set_xlim(t0, t1)\n",
    "ax[3].plot(df.index, df.Density)\n",
    "ax[3].axvline(start_co2, color='k')\n",
    "ax[3].axvline(start_co3, color='k')\n",
    "ax[3].set_ylabel(\"$\\mathrm{kg\\ m^{-3}}$\")\n",
    "ax[3].text(0.01, 0.01, \"Snow Density\", transform=ax[3].transAxes)\n"
   ]
  },
  {
   "cell_type": "markdown",
   "id": "e7eb0420-a9cd-40dd-9008-8b37bee22b5f",
   "metadata": {},
   "source": [
    "## Sensitivity Studies\n",
    "\n",
    "### Pond depth\n",
    "\n",
    "Explore sensitivity of total absorbed radiation by the ocean to pond depth for a set of ice thicknesses "
   ]
  },
  {
   "cell_type": "code",
   "execution_count": 19,
   "id": "e4b7e6f4-1a55-45f4-9bcf-55ee873b3137",
   "metadata": {
    "tags": []
   },
   "outputs": [
    {
     "data": {
      "text/plain": [
       "[(0.0, 0.5, 8.12743854522705),\n",
       " (0.02, 0.5, 16.59345245361328),\n",
       " (0.04, 0.5, 17.405590057373047),\n",
       " (0.06, 0.5, 18.36372184753418),\n",
       " (0.08, 0.5, 19.493074417114258),\n",
       " (0.1, 0.5, 20.82499885559082),\n",
       " (0.12, 0.5, 22.400968551635742),\n",
       " (0.14, 0.5, 24.274370193481445),\n",
       " (0.16, 0.5, 26.515689849853516),\n",
       " (0.18, 0.5, 29.235553741455078),\n",
       " (0.2, 0.5, 32.69268798828125),\n",
       " (0.22, 0.5, 32.29844284057617),\n",
       " (0.24, 0.5, 31.9128360748291),\n",
       " (0.26, 0.5, 31.535539627075195),\n",
       " (0.28, 0.5, 31.166303634643555),\n",
       " (0.3, 0.5, 30.80481719970703),\n",
       " (0.0, 1.0, 8.12743854522705),\n",
       " (0.02, 1.0, 16.59345245361328),\n",
       " (0.04, 1.0, 17.405590057373047),\n",
       " (0.06, 1.0, 18.36372184753418),\n",
       " (0.08, 1.0, 19.493074417114258),\n",
       " (0.1, 1.0, 20.82499885559082),\n",
       " (0.12, 1.0, 22.400968551635742),\n",
       " (0.14, 1.0, 24.274370193481445),\n",
       " (0.16, 1.0, 26.515689849853516),\n",
       " (0.18, 1.0, 29.235553741455078),\n",
       " (0.2, 1.0, 32.69268798828125),\n",
       " (0.22, 1.0, 32.29844284057617),\n",
       " (0.24, 1.0, 31.9128360748291),\n",
       " (0.26, 1.0, 31.535539627075195),\n",
       " (0.28, 1.0, 31.166303634643555),\n",
       " (0.3, 1.0, 30.80481719970703),\n",
       " (0.0, 1.5, 8.12743854522705),\n",
       " (0.02, 1.5, 16.59345245361328),\n",
       " (0.04, 1.5, 17.405590057373047),\n",
       " (0.06, 1.5, 18.36372184753418),\n",
       " (0.08, 1.5, 19.493074417114258),\n",
       " (0.1, 1.5, 20.82499885559082),\n",
       " (0.12, 1.5, 22.400968551635742),\n",
       " (0.14, 1.5, 24.274370193481445),\n",
       " (0.16, 1.5, 26.515689849853516),\n",
       " (0.18, 1.5, 29.235553741455078),\n",
       " (0.2, 1.5, 32.69268798828125),\n",
       " (0.22, 1.5, 32.29844284057617),\n",
       " (0.24, 1.5, 31.9128360748291),\n",
       " (0.26, 1.5, 31.535539627075195),\n",
       " (0.28, 1.5, 31.166303634643555),\n",
       " (0.3, 1.5, 30.80481719970703),\n",
       " (0.0, 2.0, 8.12743854522705),\n",
       " (0.02, 2.0, 16.59345245361328),\n",
       " (0.04, 2.0, 17.405590057373047),\n",
       " (0.06, 2.0, 18.36372184753418),\n",
       " (0.08, 2.0, 19.493074417114258),\n",
       " (0.1, 2.0, 20.82499885559082),\n",
       " (0.12, 2.0, 22.400968551635742),\n",
       " (0.14, 2.0, 24.274370193481445),\n",
       " (0.16, 2.0, 26.515689849853516),\n",
       " (0.18, 2.0, 29.235553741455078),\n",
       " (0.2, 2.0, 32.69268798828125),\n",
       " (0.22, 2.0, 32.29844284057617),\n",
       " (0.24, 2.0, 31.9128360748291),\n",
       " (0.26, 2.0, 31.535539627075195),\n",
       " (0.28, 2.0, 31.166303634643555),\n",
       " (0.3, 2.0, 30.80481719970703)]"
      ]
     },
     "execution_count": 19,
     "metadata": {},
     "output_type": "execute_result"
    }
   ],
   "source": [
    "import itertools\n",
    "pond_depth = np.arange(0., 0.32, 0.02)\n",
    "ice_thickness = np.arange(0.5, 2.5, 0.5)\n",
    "\n",
    "model.set_default_parameters()\n",
    "\n",
    "results = []\n",
    "for i, p in itertools.product(ice_thickness, pond_depth):\n",
    "    model.pond_depth = p\n",
    "    model.ice_thickness = i\n",
    "    model.run()\n",
    "    output = model.get_results()\n",
    "    total_radiation_absorbed_by_ocean = (output['downwelling_shortwave_flux_absorbed_by_ocean'] + \n",
    "                                         output['downwelling_longwave_flux_absorbed_by_ocean'])\n",
    "    results.append((p, i, total_radiation_absorbed_by_ocean))\n",
    "    \n",
    "results"
   ]
  },
  {
   "cell_type": "code",
   "execution_count": 20,
   "id": "6a25e29a-be21-492e-b87d-3a9b08ed7126",
   "metadata": {},
   "outputs": [
    {
     "data": {
      "text/plain": [
       "50.0"
      ]
     },
     "execution_count": 20,
     "metadata": {},
     "output_type": "execute_result"
    }
   ],
   "source": [
    "model.snow_grain_radius"
   ]
  },
  {
   "cell_type": "code",
   "execution_count": null,
   "id": "a9023e37-9d1b-47a4-9bba-7a0a0a82ab08",
   "metadata": {},
   "outputs": [],
   "source": []
  }
 ],
 "metadata": {
  "kernelspec": {
   "display_name": "Python 3 (ipykernel)",
   "language": "python",
   "name": "python3"
  },
  "language_info": {
   "codemirror_mode": {
    "name": "ipython",
    "version": 3
   },
   "file_extension": ".py",
   "mimetype": "text/x-python",
   "name": "python",
   "nbconvert_exporter": "python",
   "pygments_lexer": "ipython3",
   "version": "3.10.8"
  }
 },
 "nbformat": 4,
 "nbformat_minor": 5
}
